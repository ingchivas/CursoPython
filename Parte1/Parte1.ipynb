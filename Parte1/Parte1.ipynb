{
 "metadata": {
  "language_info": {
   "codemirror_mode": {
    "name": "ipython",
    "version": 3
   },
   "file_extension": ".py",
   "mimetype": "text/x-python",
   "name": "python",
   "nbconvert_exporter": "python",
   "pygments_lexer": "ipython3",
   "version": "3.9.2"
  },
  "orig_nbformat": 2,
  "kernelspec": {
   "name": "python392jvsc74a57bd0e6412a780e9f65f7a4a2b8a782b993ba1b4333587bb2b84a608e8a80d64ea48c",
   "display_name": "Python 3.9.2 64-bit"
  },
  "metadata": {
   "interpreter": {
    "hash": "e6412a780e9f65f7a4a2b8a782b993ba1b4333587bb2b84a608e8a80d64ea48c"
   }
  }
 },
 "nbformat": 4,
 "nbformat_minor": 2,
 "cells": [
  {
   "source": [
    "# Parte 1\n"
   ],
   "cell_type": "markdown",
   "metadata": {}
  },
  {
   "source": [
    "## Concatenación y Prints"
   ],
   "cell_type": "markdown",
   "metadata": {}
  },
  {
   "cell_type": "code",
   "execution_count": null,
   "metadata": {},
   "outputs": [],
   "source": [
    "nombre = str(input('Ingresa tu nombre: '))\n",
    "print(type(nombre))\n",
    "\n",
    "print(nombre, \"está aprendiendo python.\")\n",
    "\n",
    "print(nombre + \"está aprendiendo python.\")\n",
    "\n",
    "# Para juntar texto con un número, hay que usar la función str()\n",
    "numero = 10\n",
    "numero2 = 2\n",
    "\n",
    "print('La variable número es igual a :', numero)\n",
    "#print('La variable número es igual a :' + numero)\n",
    "print(numero2 + numero)\n",
    "\n"
   ]
  },
  {
   "cell_type": "code",
   "execution_count": null,
   "metadata": {},
   "outputs": [],
   "source": [
    "name = input(\"Dime tu nombre: \")\n",
    "print (\"Hola, Bienvenido %s!\" %name)\n",
    "edad = int(input('dime tu edad: '))\n",
    "print (\"vaya!, veo que tienes %d años\" %edad)"
   ]
  },
  {
   "cell_type": "code",
   "execution_count": null,
   "metadata": {},
   "outputs": [],
   "source": [
    "nombre = input(\"Dime tu nombre: \")\n",
    "print (\"Hola, Bienvenido {}\".format(nombre))\n",
    "edad = int(input('dime tu edad: '))\n",
    "print (\"¡Vaya {0}!, veo que tienes {1} años\".format(nombre, edad))"
   ]
  },
  {
   "source": [
    "![index](https://github.com/edavgaun/Python_curso/raw/afbdacb5d636c545fd452c75aff506c4965a4a10/img/index.png)\n",
    "![index2](https://github.com/edavgaun/Python_curso/raw/afbdacb5d636c545fd452c75aff506c4965a4a10/img/slice.png)"
   ],
   "cell_type": "markdown",
   "metadata": {}
  },
  {
   "cell_type": "code",
   "execution_count": null,
   "metadata": {},
   "outputs": [],
   "source": [
    "pal = input()\n",
    "print(pal[::-1])"
   ]
  },
  {
   "cell_type": "code",
   "execution_count": null,
   "metadata": {},
   "outputs": [],
   "source": [
    "#            012345678901234567\n",
    "enunciado = \"Hoy es un gran día\"\n",
    "print(enunciado[0:9])"
   ]
  },
  {
   "source": [
    "## Errores en Python\n",
    "\n",
    "Los errores más comunes son las siguientes:\n",
    "\n",
    "- ImportError: Error al realizar una importación de una librería o modulo.\n",
    "\n",
    "- IndexError: Se trata de acceder a un indice fuera de rango en una lista o tupla.\n",
    "\n",
    "- KeyError: Se trata de acceder a una llave que no existe en un diccionario.\n",
    "\n",
    "- NameError: Se trata de utilizar una variable no declarada.\n",
    "\n",
    "- SyntaxError: La sintaxis no corresponde a las reglas del lenguaje.\n",
    "\n",
    "- TypeError: Se trata de llamar a una función utilizando argumentos de tipo que no corresponden.\n",
    "\n",
    "- ValueError: Se trata de llamar a una función utilizando argumentos de tipo correcto pero valor erroneo.\n",
    "\n",
    "- IdentationError: Se ha creado un bloque de control, pero sin respetar la identación del mismo."
   ],
   "cell_type": "markdown",
   "metadata": {}
  },
  {
   "cell_type": "code",
   "execution_count": null,
   "metadata": {},
   "outputs": [],
   "source": [
    "print('La variable número es igual a :' + numero)"
   ]
  },
  {
   "source": [
    "## Operadores\n",
    "\n",
    "#### Aritméticos\n",
    "\n",
    "```\n",
    "+\tRealiza Adición entre los operandos\n",
    "\n",
    "-\tRealiza Substracción entre los operandos\n",
    "\n",
    "*\tRealiza Multiplicación entre los operandos\n",
    "\n",
    "/\tRealiza División entre los operandos\n",
    "\n",
    "%\tRealiza un módulo entre los operandos\n",
    "\n",
    "**\tRealiza la potencia de los operandos\n",
    "\n",
    "//\tRealiza la división con resultado de número entero\n",
    "\n",
    "```\n",
    "#### Asignación\n",
    "- += Suma al objeto antes del operador lo que se encuentra después\n",
    "- -= Resta al objeto antes del operador lo que se encuentra después\n",
    "- *= Multiplica al objeto antes del operador lo que se encuentra después\n",
    "\n",
    "\n",
    "#### Lógicos\n",
    "\n",
    "- == Para evaluar igualdades\n",
    "\n",
    "- <, >, >=, <= Evalúa mayor que, menor que, mayor o igual que, y menor o igual que\n",
    "\n",
    "- != Evalua si son diferentes\n",
    "\n",
    "- and ([Y])\n",
    "\n",
    "- or ([O])\n",
    "\n",
    "- not ([NO])\n",
    "\n",
    "#### Identidad \n",
    "\n",
    "- is (En caso de que se haga referencia a un mismo objeto)\n",
    "- is not (En caso de qye no refiera al mismo objeto)\n",
    "- in está contenido dentro del objerto\n"
   ],
   "cell_type": "markdown",
   "metadata": {}
  },
  {
   "cell_type": "code",
   "execution_count": null,
   "metadata": {},
   "outputs": [],
   "source": [
    "mate = float(input('Escribe tu ptomedio de mate: '))\n",
    "fis = float(input('Escribe tu ptomedio de física: '))\n",
    "dib = float(input('Escribe tu ptomedio de dib: '))\n",
    "ifo = float(input('Escribe tu ptomedio de ifo: '))\n",
    "rot = float(input('Escribe tu ptomedio de rot: '))\n",
    "\n",
    "prom = (mate + fis + dib + ifo + rot)/5\n",
    "\n",
    "print(\"Tu promedio es\", prom)\n",
    "print(round(prom))"
   ]
  },
  {
   "cell_type": "code",
   "execution_count": null,
   "metadata": {},
   "outputs": [],
   "source": [
    "helado = \"helado de chocolate\"\n",
    "print (\"chocolate\" in helado)\n",
    "contiene = (\"helado\" in helado)\n",
    "print (\"tiene helado?\", contiene)\n"
   ]
  },
  {
   "source": [
    "## Librerías\n",
    "\n",
    "Colección de funciones.\n",
    "\n",
    "\n",
    "Se dividen en builtins y externas.\n",
    "\n",
    "Por ejemplo en builtins tenemos:\n",
    "- math\n",
    "- os\n",
    "- turtle\n",
    "- tkinter\n",
    "- Para la lista completa podemos consultar: https://docs.python.org/3/py-modindex.html\n",
    "\n",
    "Las externas las instalamos mediante PyPi (pip) que es el manejador de paquetes de Python.\n",
    "Algunos ejemplos notables son:\n",
    "- Tensorflow\n",
    "- NumPy\n",
    "- Pandas\n",
    "- SciPy\n",
    "- Keras\n",
    "\n",
    "\n"
   ],
   "cell_type": "markdown",
   "metadata": {}
  },
  {
   "cell_type": "code",
   "execution_count": null,
   "metadata": {},
   "outputs": [],
   "source": [
    "import this"
   ]
  },
  {
   "cell_type": "code",
   "execution_count": null,
   "metadata": {},
   "outputs": [],
   "source": [
    "import math\n",
    "#import math as mt\n",
    "#from math import *\n",
    "#from math import sqrt as sq\n",
    "\n",
    "#Calculamos área y perímetro de un polígono regular\n",
    "nlados = int(input('¿Cúantos lados tiene su polígono?'))\n",
    "medlado = int(input('¿Cúantos mide el lado de su polígono?'))\n",
    "\n",
    "perimetro = nlados * medlado\n",
    "\n",
    "angulocentral = math.radians(360)/nlados\n",
    "apotema = medlado/(2*math.tan(angulocentral/2))\n",
    "\n",
    "area = (perimetro * apotema) / 2\n",
    "\n",
    "\n",
    "print('El perímetro es:', perimetro)\n",
    "print('El área es:', round(area,2))\n",
    "\n"
   ]
  },
  {
   "source": [
    "## Ciclos de control"
   ],
   "cell_type": "markdown",
   "metadata": {}
  },
  {
   "source": [
    "### En Python tenemos 2 ciclos de control de flujo **for** y **while**\n",
    "\n",
    "#### For:\n",
    "Los ciclos **for** permiten ejecutar una o varias instrucciones de forma iterativa, una vez por cada elemento en la colección.\n",
    "\n",
    "```python\n",
    "for i in range(10):\n",
    "    print(i)\n",
    "```\n",
    "Iterando en listas\n",
    "<br>\n",
    "```\n",
    "numeros = [0, 1, 2, 3, 4, 5]\n",
    "for numero in numeros:\n",
    "    print(numero)\n",
    "```\n",
    "Iterando en diccionarios\n",
    "<br>\n",
    "```\n",
    "frutas = {'Fresa':'roja', 'Limon':'verde', 'Papaya':'naranja', 'Manzana':'amarilla', 'Guayaba':'rosa'}\n",
    "for llave in frutas:\n",
    "    print(llave, 'es de color', frutas[llave])\n",
    "```\n",
    "\n",
    "#### While:\n",
    "\n",
    "Recordemos nuestras comparaciones.\n",
    "```\n",
    "a < b \n",
    "a > b\n",
    "a <= b\n",
    "a >= b\n",
    "a == b\n",
    "a != b\n",
    "\n",
    "```\n",
    "El ciclo **while** permite ejecutar un bloque de instrucciones mientras se cumpla la condición dada. Primero comprueba que en efecto se cumple la condición dada y entonces, ejecuta el segmento de código correspondiente hasta que la condición no se cumpla.\n",
    "\n",
    "```python\n",
    "numero = 0\n",
    "while numero <= 10:\n",
    "    print(numero)\n",
    "    numero += 1\n",
    "```\n",
    "<br>\n",
    "Un ejemplo para la validación de datos\n",
    "\n",
    "```\n",
    "nombre = ''\n",
    "while not nombre:\n",
    "    nombre = input('Escribe tu nombre: ')\n",
    "```\n",
    "\n",
    "Podemos utilizar **break** para romper un ciclo. <br>\n",
    "Y **continue** para detener una iteración actual y seguir con lo que venga después.\n",
    "\n"
   ],
   "cell_type": "markdown",
   "metadata": {}
  },
  {
   "cell_type": "code",
   "execution_count": null,
   "metadata": {},
   "outputs": [],
   "source": [
    "i = 1\n",
    "while i <= 6:\n",
    "    print(i)\n",
    "    i += 1\n",
    "else:\n",
    "    print(\"ya terminamos\")\n"
   ]
  },
  {
   "cell_type": "code",
   "execution_count": null,
   "metadata": {},
   "outputs": [],
   "source": [
    "palabra = str(input())\n",
    "for i in palabra:\n",
    "    print(i)\n",
    "\n",
    "long = 0\n",
    "\n",
    "for i in palabra:\n",
    "    long += 1\n",
    "\n",
    "\n",
    "print('La palabra tiene', long, 'letras')\n"
   ]
  },
  {
   "cell_type": "code",
   "execution_count": null,
   "metadata": {},
   "outputs": [],
   "source": [
    "califs = 0\n",
    "\n",
    "leercalifs = int(input('¿Cúantas calificaciones tienes?'))\n",
    "\n",
    "for i in range(leercalifs):\n",
    "    califs = int(input('Ingresa tu calificación{}'.format(i+1))) + califs\n",
    "\n",
    "print('El acumulado de tus calificaciones es:', califs)\n",
    "\n",
    "ncalifs = range(leercalifs)\n",
    "\n",
    "print('Promedio:', califs / leercalifs)"
   ]
  },
  {
   "source": [
    "### Condicionales\n",
    "Las sentencias condicionales en Python son: **if**, **elif** y **else**.\n",
    "\n",
    "Una sentencia condicional consiste básicamente en las siguientes partes principales:\n",
    "- una prueba que evalúa a verdadero o falso (if/elif)\n",
    "- un bloque de código que se ejecuta si la prueba es verdadero\n",
    "- un bloque opcional de código si la prueba es falsa (else)"
   ],
   "cell_type": "markdown",
   "metadata": {}
  },
  {
   "cell_type": "code",
   "execution_count": null,
   "metadata": {},
   "outputs": [],
   "source": [
    "matem = float(input())\n",
    "info = float(input())\n",
    "esp = float(input())\n",
    "\n",
    "prom = ((matem + info + esp)/3)\n",
    "\n",
    "if prom >= 6 and matem == 10:\n",
    "    print(prom, \"aprobado\")\n",
    "else:\n",
    "    print(prom, \"reprobado\")"
   ]
  },
  {
   "cell_type": "code",
   "execution_count": null,
   "metadata": {},
   "outputs": [],
   "source": [
    "promedio = 0\n",
    "materias = int(input('Dime tu num de materias:'))\n",
    "for i in range(materias):\n",
    "    sumamat = float(input('Calificación:'))\n",
    "    promedio = float(sumamat) + float(promedio)\n",
    "\n",
    "final = float(promedio)/materias\n",
    "print(final)\n",
    "if final == 10:\n",
    "    print(\"perfección\")\n",
    "elif final >= 6:\n",
    "    print(\"aprobado\")\n",
    "else:\n",
    "    print(\"reprobado\")"
   ]
  },
  {
   "source": [
    "## Estructuras de datos\n",
    "\n",
    "Existen diferentes tipos de arreglos en Python, los 3 mas usados y útiles son los siguientes:\n",
    "\n",
    "- Listas [], colección ordenada y modificable de elementos.\n",
    "- Tuplas (), colección ordenada e inmutable de elementos.\n",
    "- Diccionarios {}, colección sin ordenar, modificable e indexada de elementos."
   ],
   "cell_type": "markdown",
   "metadata": {}
  },
  {
   "source": [
    "### LISTAS"
   ],
   "cell_type": "markdown",
   "metadata": {}
  },
  {
   "cell_type": "code",
   "execution_count": null,
   "metadata": {},
   "outputs": [],
   "source": [
    "lista = [1, 3 , 5, 'hola','hola', True]\n",
    "\n",
    "print(len(lista))\n",
    "print(45 in lista)\n",
    "\n"
   ]
  },
  {
   "cell_type": "code",
   "execution_count": null,
   "metadata": {},
   "outputs": [],
   "source": [
    "lista.append(45)\n",
    "print(45 in lista)"
   ]
  },
  {
   "cell_type": "code",
   "execution_count": null,
   "metadata": {},
   "outputs": [],
   "source": [
    "lista.count('hola')"
   ]
  },
  {
   "cell_type": "code",
   "execution_count": null,
   "metadata": {},
   "outputs": [],
   "source": [
    "lista.reverse()"
   ]
  },
  {
   "cell_type": "code",
   "execution_count": null,
   "metadata": {},
   "outputs": [],
   "source": [
    "lista.pop(0)"
   ]
  },
  {
   "cell_type": "code",
   "execution_count": null,
   "metadata": {},
   "outputs": [],
   "source": [
    "print(lista)"
   ]
  },
  {
   "cell_type": "code",
   "execution_count": null,
   "metadata": {},
   "outputs": [],
   "source": [
    "print(lista[3])"
   ]
  },
  {
   "cell_type": "code",
   "execution_count": null,
   "metadata": {},
   "outputs": [],
   "source": [
    "# lista basta \n",
    "listab = [\"antonio\", \"altamirano\" , \"avestruz\" , \"arandano\" , \"audi\" , \"arbol\" , \"arabia saudita\" , \n",
    "    \"bernardo\" , \"bustos\" , \"buey\" , \"bugambilia\" , \"bayern\" , \"bebida\" , \"botswana\" , \"carlos\" , \"cretin\" ,\n",
    "    \"campañol\" , \"cereza\" , \"cartoon network\" , \"cajeta\" , \"chile\" , \"demian\" , \"diaz\" , \"delfin\" , \"durazno\",\n",
    "    \"dove\" , \"detergente\" , \"durango\" , \"eugenio\" , \"encalada\" , \"elefante\" , \"enebro\" , \"echo\" , \"engrane\" , \"eslovaquia\" ,\n",
    "    \"fernanda\" , \"fuentes\" , \"flamingo\" , \"frambuesa\" , \"factis\" , \"foco\" , \"francia\", \"gerardo\" , \"gutierrez\" , \"garrapata\" ,\n",
    "    \"gardenia\" , \"gap\" , \"gelatina\" , \"guatemala\" , \"hector\" , \"herrera\" , \"hormiga\" , \"higuera\" , \"huawei\" , \"hoz\" , \"hidalgo\" ,\n",
    "    \"ignacio\" , \"itzel\" , \"iguana\" , \"iris\" , \"intel\" , \"impresora\" , \"inglaterra\" , \"josue\" , \"jimenez\" , \"jirafa\" , \"jitomate\" ,\n",
    "    \"jelly belly\" , \"jicaleta\" , \"jamaica\" , \"karla\" , \"king\" , \"koala\" , \"kiwi\" , \"kellogs\" , \"kilobytes\" , \"kenya\" , \"luis\" ,\n",
    "    \"lozano\" , \"lagarto\" , \"lima\" , \"lenovo\" , \"led\" , \"lituania\" , \"maritza\" , \"mejia\" , \"mariquita\" , \"milenrama\" , \"mcdonals\" ,\n",
    "    \"medalla\" , \"mexicali\" ,\"nicolas\" , \"nacher\", \"nutria\" , \"nebeda\" , \"nissan\" , \"nitrogeno\" , \"nigeria\" , \"octavio\" , \"ordaz\" ,\n",
    "    \"oso hormiguero\" , \"orquidea\" , \"oreo\" , \"octanol\" , \"oregon\" , \"pedro\" , \"paz\" , \"perdiz\" , \"papaya\" , \"pelikan\" , \"polonio\" ,\n",
    "    \"polonia\" , \"quetzalcoatl\" , \"quintero\" , \"quetzal\" , \"quinoa\" , \"quacker state\" , \"queso\" , \"quintana roo\" , \"rodrigo\" ,\n",
    "    \"rodriguez\" , \"rata\" , \"romero\" , \"renault\" , \"rehilete\" , \"roma\" , \"saul\" , \"sosa\" , \"serpiente\" , \"sauco\" , \"samsonite\" ,\n",
    "    \"sacapuntas\" , \"suecia\" , \"tiana\" , \"tejada\" , \"tejon\" , \"tomillo\" , \"tesla\" , \"timon\" , \"taiwan\" , \"uriel\" , \"ubeda\" ,\n",
    "    \"urraca\" , \"uva\" , \"ubisoft\" , \"uracilo\" , \"uruguay\" , \"vanya\" , \"viedas\" , \"vibora\" , \"vaina\" , \"vans\" , \"viento\" ,\n",
    "    \"vaticano\" , \"walter\" , \"washington\" , \"wombat\" , \"wasabi\" , \"windows\" , \"whisky\" , \"wellington\" , \"wellington\" ,\n",
    "    \"ximena\" , \"xocoyotzin\" , \"xoloitzcuincle\" , \"xigua\" , \"xiaomi\" , \"xilofono\" , \"xalapa\", \"yolanda\" , \"yaniz\" ,\n",
    "    \"yegua\" , \"yuca\" , \"yamaha\" , \"yoyo\" , \"yugoslavia\" , \"zlatan\" , \"zapien\" , \"zarigueya\" , \"zarza\" , \"zara\" ,\n",
    "    \"zepelin\" , \"zacatecas\"] \n",
    "# hacemos nuestro check \n",
    "\n",
    "check = str(input(\"Letra: \"))\n",
    "\n",
    "# utilizamos algunos algoritmos de comprensión \n",
    "# y buscamos que empieze con x letra \n",
    "\n",
    "res = [i for i in listab if i[0].lower() == check.lower()] \n",
    "\n",
    "#resultado \n",
    "print(\"Las palabras que empiezan con \" + check + \" son: \" + str(res))\n"
   ]
  },
  {
   "source": [
    "### TUPLAS\n",
    "Estructuda de datos, donde estos pueden llegar a ser de diferente tipo. La caracteristica principal de una tupla es que son inmutables\n",
    "\n"
   ],
   "cell_type": "markdown",
   "metadata": {}
  },
  {
   "cell_type": "code",
   "execution_count": null,
   "metadata": {},
   "outputs": [],
   "source": [
    "sabores = ('Chocolate', 'Fresa', 'Vainilla')\n",
    "print(sabores[1])"
   ]
  },
  {
   "source": [
    "### Diccionarios"
   ],
   "cell_type": "markdown",
   "metadata": {}
  },
  {
   "cell_type": "code",
   "execution_count": null,
   "metadata": {},
   "outputs": [],
   "source": [
    "t_poli = {\n",
    "        3:\"triángulo\",\n",
    "        4:\"cuadrángulo\",\n",
    "        5:\"pentágono\",\n",
    "        6:\"hexágono\",\n",
    "        7:\"heptágono\",\n",
    "        8:\"octágono\",\n",
    "        9:\"nonágono\",\n",
    "        10:\"decágono\",\n",
    "        11:\"undecágono\",\n",
    "        12:\"dodecágono\",\n",
    "        13:\"tridecágono\",\n",
    "        14:\"tetradecágono\",\n",
    "        15:\"pentadecágono\",\n",
    "        16:\"hexadecágono\",\n",
    "        17:\"heptadecágono\",\n",
    "        18:\"octadecágono\",\n",
    "        19:\"nonadecágono\",\n",
    "        20:\"icoságono\",\n",
    "        21:\"henicoságono\",\n",
    "        22:\"doicoságono\",\n",
    "        23:\"triaicoságono\",\n",
    "        24:\"tetraicoságono\",\n",
    "        25:\"pentaicoságono \",\n",
    "        26:\"hexaicoságono\",\n",
    "        27:\"heptaicoságono\",\n",
    "        28:\"octaicoságono\",\n",
    "        29:\"eneaicoságono\",\n",
    "        30:\"triacontágono\",\n",
    "    } "
   ]
  },
  {
   "cell_type": "code",
   "execution_count": null,
   "metadata": {},
   "outputs": [],
   "source": [
    "t_poli.keys()"
   ]
  },
  {
   "cell_type": "code",
   "execution_count": null,
   "metadata": {},
   "outputs": [],
   "source": [
    "t_poli[30]='Treintágono'"
   ]
  },
  {
   "cell_type": "code",
   "execution_count": null,
   "metadata": {},
   "outputs": [],
   "source": [
    "tpoli = t_poli.get(30)\n",
    "print(tpoli)"
   ]
  },
  {
   "cell_type": "code",
   "execution_count": null,
   "metadata": {},
   "outputs": [],
   "source": [
    "tpoli[31].append('Triacontakaihenágono')"
   ]
  },
  {
   "source": [
    "## Funciones custom\n",
    "\n",
    "Una función (método), es un elemento que nos va a servir en Python para poder realizar acciones, o tareas específicas. Una función puede ser invocada en cualquier parte del código."
   ],
   "cell_type": "markdown",
   "metadata": {}
  },
  {
   "cell_type": "code",
   "execution_count": null,
   "metadata": {},
   "outputs": [],
   "source": [
    "def gramoakilo(gramo):\n",
    "    kilo = gramo / 1000\n",
    "    return kilo\n",
    "\n",
    "gramoakilo(float(input()))\n",
    "\n",
    "gramoakilo(1000)"
   ]
  },
  {
   "cell_type": "code",
   "execution_count": null,
   "metadata": {},
   "outputs": [],
   "source": [
    "def suma(a,b):\n",
    "    '''\n",
    "    Suma de dos números\n",
    "    '''\n",
    "    return a+b\n",
    "\n",
    "def resta(a,b):\n",
    "    '''\n",
    "    resta de dos números\n",
    "    '''\n",
    "    return a-b\n",
    "\n",
    "def multiplicacion(a,b):\n",
    "    '''\n",
    "    multiplicación de dos números\n",
    "    '''\n",
    "    return a*b\n",
    "\n",
    "def division(a,b):\n",
    "    '''\n",
    "    división de dos números\n",
    "    '''\n",
    "    return a/b\n",
    "\n",
    "print(suma(1,3))\n",
    "print(resta(1,3))\n",
    "print(multiplicacion(1,3))\n",
    "print(division(1,3))"
   ]
  },
  {
   "source": [
    "KWARGS Los keyword arguments nos ayudan a pasar argumentos como palabras clave, no solo como un argumento individual."
   ],
   "cell_type": "markdown",
   "metadata": {}
  },
  {
   "cell_type": "code",
   "execution_count": null,
   "metadata": {},
   "outputs": [],
   "source": [
    "def nombres(**nombre):\n",
    "    print(\"Su nombre es:\", nombre[\"nombrex\"])\n",
    "\n",
    "nombres(nombrex = \"Juan\")"
   ]
  },
  {
   "source": [
    "Argumentos por defecto\n",
    "\n",
    "Establecemos un argumento que en caso de que no se use en la llamada a la función, use uno predefinido por nosotros."
   ],
   "cell_type": "markdown",
   "metadata": {}
  },
  {
   "cell_type": "code",
   "execution_count": null,
   "metadata": {},
   "outputs": [],
   "source": [
    "\n",
    "def Promedios(nombre = \"n\", califs = 0):\n",
    "    total = sum(califs)\n",
    "    prom = total/len(califs)\n",
    "    return print(\"Hola\", nombre, \"tu promedio final es:\", prom)\n",
    "\n",
    "nom = input(\"Bienvenido a la calculadora de promedios, ingresa tu nombre: \")\n",
    "lcal = []\n",
    "nmaterias = int(input(\"Dime, ¿cúantas materias cursaste?: \"))\n",
    "for n in range(nmaterias):\n",
    "    cal = float(input(\"Ingresa tu calificación: \"))\n",
    "    lcal.append(cal)\n",
    "\n",
    "Promedios(nom, lcal)"
   ]
  },
  {
   "cell_type": "code",
   "execution_count": null,
   "metadata": {},
   "outputs": [],
   "source": [
    "!pip install termcolor"
   ]
  },
  {
   "cell_type": "code",
   "execution_count": null,
   "metadata": {},
   "outputs": [],
   "source": [
    "import math\n",
    "import matplotlib.pyplot as plt\n",
    "from termcolor import colored\n",
    "\n",
    "\n",
    "def Areg (): \n",
    "    #Hago un arreglo para comprarar el número de lados con el nombre del polígono regular \n",
    "    t_poli = {\n",
    "        3:\"triángulo\",\n",
    "        4:\"cuadrángulo\",\n",
    "        5:\"pentágono\",\n",
    "        6:\"hexágono\",\n",
    "        7:\"heptágono\",\n",
    "        8:\"octágono\",\n",
    "        9:\"nonágono\",\n",
    "        10:\"decágono\",\n",
    "        11:\"undecágono\",\n",
    "        12:\"dodecágono\",\n",
    "        13:\"tridecágono\",\n",
    "        14:\"tetradecágono\",\n",
    "        15:\"pentadecágono\",\n",
    "        16:\"hexadecágono\",\n",
    "        17:\"heptadecágono\",\n",
    "        18:\"octadecágono\",\n",
    "        19:\"nonadecágono\",\n",
    "        20:\"icoságono\",\n",
    "        21:\"henicoságono\",\n",
    "        22:\"doicoságono\",\n",
    "        23:\"triaicoságono\",\n",
    "        24:\"tetraicoságono\",\n",
    "        25:\"pentaicoságono \",\n",
    "        26:\"hexaicoságono\",\n",
    "        27:\"heptaicoságono\",\n",
    "        28:\"octaicoságono\",\n",
    "        29:\"eneaicoságono\",\n",
    "        30:\"triacontágono\",\n",
    "    } \n",
    "    #Pregunto al usuario el número \n",
    "    numlados = int(input(\"¿Cúantos lados tiene su polígono?: \"))\n",
    "    medlado = float(input(\"¿Cúanto mide un lado de su polígono?: \"))\n",
    "\n",
    "    while (numlados > 2):\n",
    "        ac = math.radians(360)/numlados #Cálculo del ángulo central\n",
    "        ap = medlado / (2*(math.tan(ac/2))) #Cálculo del apotema\n",
    "        per = numlados * medlado #Cálculo del perímetro\n",
    "        ar = (per*ap)/2 #Fórmula gral para el área cualquier polígono\n",
    "        rad = numlados/(2*math.sin(ac/2))\n",
    "        tpoli = t_poli.get(numlados)#Veo que tipo de figura es comparándola con mi diccionario\n",
    "\n",
    "        #Imprimo en colores\n",
    "        print(colored('El área es', 'red'), colored(ar, 'green'), colored('u²','blue'))\n",
    "        print(colored('La figura es un: ', 'red'), colored(tpoli, 'green'))\n",
    "        print(colored('El perímetro es', 'red'), colored(per, 'green'),colored('u','blue'))\n",
    "        \n",
    "        #Método trigonométrico para calcular las coordenadas\n",
    "        x = list(range(0, numlados + 1))\n",
    "        y = list(range(0, numlados + 1))\n",
    "\n",
    "        for n in range(0, numlados + 1):\n",
    "            x[n]=(rad * math.cos((ac * n)))\n",
    "            y[n]=(rad * math.sin((ac * n)))\n",
    "\n",
    "        plt.plot(x, y)\n",
    "        plt.show()\n",
    "        break\n",
    "    \n",
    "    else:#En caso de que la figura sea de menos de 3 lados\n",
    "        print(\"No se puede generar un polígono de\", numlados, \"lados\")\n",
    "        \n",
    "Areg()#Llamo a mi función, el programa está conteido en la función según lo requerido.\n"
   ]
  }
 ]
}